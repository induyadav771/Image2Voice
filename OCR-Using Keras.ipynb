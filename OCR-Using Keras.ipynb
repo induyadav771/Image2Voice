{
 "cells": [
  {
   "cell_type": "code",
   "execution_count": 1,
   "metadata": {},
   "outputs": [
    {
     "name": "stdout",
     "output_type": "stream",
     "text": [
      "Reading  emnist-letters-test-images-idx3-ubyte\n",
      "Reading  emnist-letters-test-labels-idx1-ubyte\n",
      "Reading  clf_train.pkl\n",
      "Reading  emnist-letters-train-images-idx3-ubyte\n",
      "Reading  MNISTData.pkl\n",
      "Reading  emnist-letters-train-labels-idx1-ubyte\n"
     ]
    }
   ],
   "source": [
    "import os,codecs\n",
    "import numpy as np\n",
    "\n",
    "path='/Users/gindu/Desktop/mnist_dataset/'\n",
    "files=os.listdir(path)\n",
    "\n",
    "def get_int(b):\n",
    "    return int(codecs.encode(b, 'hex'), 16)\n",
    "\n",
    "data_dict={}\n",
    "for file in files:\n",
    "    print(\"Reading \",file)\n",
    "    with open (path+file,'rb') as f:\n",
    "        data = f.read()\n",
    "        type = get_int(data[:4])   \n",
    "        length = get_int(data[4:8])\n",
    "        if (type == 2051):\n",
    "            category = 'images'\n",
    "            num_rows = get_int(data[8:12])  \n",
    "            num_cols = get_int(data[12:16])\n",
    "            parsed = np.frombuffer(data,dtype = np.uint8, offset = 16)\n",
    "            parsed = parsed.reshape(length,num_rows,num_cols)  \n",
    "        elif(type == 2049):\n",
    "            category = 'labels'\n",
    "            parsed = np.frombuffer(data, dtype=np.uint8, offset=8)\n",
    "            parsed = parsed.reshape(length)                          \n",
    "        if (length==20800):\n",
    "            set = 'test'\n",
    "        elif (length==124800):\n",
    "            set = 'train'\n",
    "        data_dict[set+'_'+category] = parsed"
   ]
  },
  {
   "cell_type": "code",
   "execution_count": 2,
   "metadata": {},
   "outputs": [
    {
     "data": {
      "text/plain": [
       "dict_keys(['test_images', 'test_labels', 'train_images', 'train_labels'])"
      ]
     },
     "execution_count": 2,
     "metadata": {},
     "output_type": "execute_result"
    }
   ],
   "source": [
    "data_dict.keys()"
   ]
  },
  {
   "cell_type": "code",
   "execution_count": 3,
   "metadata": {},
   "outputs": [],
   "source": [
    "x_train=data_dict['train_images']\n",
    "y_train=data_dict['train_labels']\n",
    "x_test=data_dict['test_images']\n",
    "y_test=data_dict['test_labels']\n"
   ]
  },
  {
   "cell_type": "code",
   "execution_count": 4,
   "metadata": {},
   "outputs": [
    {
     "name": "stdout",
     "output_type": "stream",
     "text": [
      "label:  2\n"
     ]
    },
    {
     "data": {
      "text/plain": [
       "<Figure size 640x480 with 1 Axes>"
      ]
     },
     "metadata": {},
     "output_type": "display_data"
    },
    {
     "name": "stdout",
     "output_type": "stream",
     "text": [
      "B\n"
     ]
    }
   ],
   "source": [
    "labels=' ABCDEFGHIJKLMNOPQRSTUVWXYZabcdefghijklmnopqrstuvwxyz'\n",
    "\n",
    "import matplotlib.pyplot as plt\n",
    "plt.gray() \n",
    "imgplot = plt.imshow(x_train[20].T, cmap='gray')\n",
    "print(\"label: \",y_train[20])\n",
    "plt.show()\n",
    "print(labels[y_train[20]])"
   ]
  },
  {
   "cell_type": "code",
   "execution_count": 5,
   "metadata": {},
   "outputs": [
    {
     "name": "stdout",
     "output_type": "stream",
     "text": [
      "(124800, 28, 28) (20800, 28, 28)\n"
     ]
    }
   ],
   "source": [
    "print(x_train.shape,x_test.shape)"
   ]
  },
  {
   "cell_type": "code",
   "execution_count": 6,
   "metadata": {},
   "outputs": [],
   "source": [
    "x_train = x_train.reshape(x_train.shape[0], 28, 28, 1)\n",
    "x_test = x_test.reshape(x_test.shape[0], 28, 28, 1)\n",
    "input_shape = (28, 28, 1)"
   ]
  },
  {
   "cell_type": "code",
   "execution_count": 7,
   "metadata": {},
   "outputs": [],
   "source": [
    "x_train = x_train.astype('float32')\n",
    "x_test = x_test.astype('float32')"
   ]
  },
  {
   "cell_type": "code",
   "execution_count": 8,
   "metadata": {},
   "outputs": [
    {
     "name": "stdout",
     "output_type": "stream",
     "text": [
      "x_train shape: (124800, 28, 28, 1)\n"
     ]
    }
   ],
   "source": [
    "x_train /= 255\n",
    "x_test /= 255\n",
    "print('x_train shape:', x_train.shape)"
   ]
  },
  {
   "cell_type": "code",
   "execution_count": 9,
   "metadata": {},
   "outputs": [],
   "source": [
    "import tensorflow as tf"
   ]
  },
  {
   "cell_type": "code",
   "execution_count": 10,
   "metadata": {},
   "outputs": [
    {
     "data": {
      "text/plain": [
       "'/Library/Frameworks/Python.framework/Versions/3.7/bin/python3.7'"
      ]
     },
     "execution_count": 10,
     "metadata": {},
     "output_type": "execute_result"
    }
   ],
   "source": [
    "import sys\n",
    "\n",
    "sys.path\n",
    "\n",
    "sys.executable"
   ]
  },
  {
   "cell_type": "code",
   "execution_count": 13,
   "metadata": {},
   "outputs": [
    {
     "name": "stderr",
     "output_type": "stream",
     "text": [
      "Using TensorFlow backend.\n"
     ]
    }
   ],
   "source": [
    "from keras.models import Sequential\n",
    "from keras.layers import Dense, Conv2D, Dropout, Flatten, MaxPooling2D"
   ]
  },
  {
   "cell_type": "code",
   "execution_count": 22,
   "metadata": {},
   "outputs": [],
   "source": [
    "model = Sequential()\n",
    "model.add(Conv2D(28, kernel_size=(3,3), input_shape=input_shape))\n",
    "model.add(MaxPooling2D(pool_size=(2, 2)))\n",
    "model.add(Flatten()) # Flattening the 2D arrays for fully connected layers\n",
    "model.add(Dense(128, activation=tf.nn.relu))\n",
    "model.add(Dropout(0.2))\n",
    "model.add(Dense(27,activation=tf.nn.softmax))"
   ]
  },
  {
   "cell_type": "code",
   "execution_count": 25,
   "metadata": {},
   "outputs": [
    {
     "name": "stdout",
     "output_type": "stream",
     "text": [
      "Epoch 1/10\n",
      "124800/124800 [==============================] - 57s 454us/step - loss: 0.1838 - acc: 0.9356\n",
      "Epoch 2/10\n",
      "124800/124800 [==============================] - 55s 444us/step - loss: 0.1651 - acc: 0.9418\n",
      "Epoch 3/10\n",
      "124800/124800 [==============================] - 61s 485us/step - loss: 0.1557 - acc: 0.9446\n",
      "Epoch 4/10\n",
      "124800/124800 [==============================] - 39s 312us/step - loss: 0.1504 - acc: 0.9464\n",
      "Epoch 5/10\n",
      "124800/124800 [==============================] - 40s 324us/step - loss: 0.1457 - acc: 0.9475\n",
      "Epoch 6/10\n",
      "124800/124800 [==============================] - 43s 342us/step - loss: 0.1403 - acc: 0.9492\n",
      "Epoch 7/10\n",
      "124800/124800 [==============================] - 46s 367us/step - loss: 0.1372 - acc: 0.9506\n",
      "Epoch 8/10\n",
      "124800/124800 [==============================] - 45s 363us/step - loss: 0.1347 - acc: 0.9517\n",
      "Epoch 9/10\n",
      "124800/124800 [==============================] - 46s 371us/step - loss: 0.1319 - acc: 0.9525\n",
      "Epoch 10/10\n",
      "124800/124800 [==============================] - 48s 382us/step - loss: 0.1264 - acc: 0.9538\n"
     ]
    },
    {
     "data": {
      "text/plain": [
       "<keras.callbacks.History at 0x154a8e588>"
      ]
     },
     "execution_count": 25,
     "metadata": {},
     "output_type": "execute_result"
    }
   ],
   "source": [
    "model.compile(optimizer='adam', \n",
    "              loss='sparse_categorical_crossentropy', \n",
    "              metrics=['accuracy'])\n",
    "model.fit(x=x_train,y=y_train, epochs=10, batch_size=1000)"
   ]
  },
  {
   "cell_type": "code",
   "execution_count": 26,
   "metadata": {},
   "outputs": [
    {
     "name": "stdout",
     "output_type": "stream",
     "text": [
      "20800/20800 [==============================] - 5s 221us/step\n"
     ]
    },
    {
     "data": {
      "text/plain": [
       "[0.25048661792238885, 0.9255288461538461]"
      ]
     },
     "execution_count": 26,
     "metadata": {},
     "output_type": "execute_result"
    }
   ],
   "source": [
    "model.evaluate(x_test, y_test)"
   ]
  },
  {
   "cell_type": "code",
   "execution_count": 39,
   "metadata": {},
   "outputs": [
    {
     "name": "stdout",
     "output_type": "stream",
     "text": [
      "1\n",
      "A\n"
     ]
    },
    {
     "data": {
      "image/png": "[encoded data removed]",
      "text/plain": [
       "<Figure size 432x288 with 1 Axes>"
      ]
     },
     "metadata": {
      "needs_background": "light"
     },
     "output_type": "display_data"
    }
   ],
   "source": [
    "image_index = 4\n",
    "plt.imshow(x_test[image_index].reshape(28, 28).T,cmap='gray')\n",
    "pred = model.predict(x_test[image_index].reshape(1,28,28, 1))\n",
    "print(pred.argmax())\n",
    "print(labels[int(pred.argmax())])"
   ]
  },
  {
   "cell_type": "code",
   "execution_count": 28,
   "metadata": {},
   "outputs": [],
   "source": [
    "p=model.predict(x_test)"
   ]
  },
  {
   "cell_type": "code",
   "execution_count": 31,
   "metadata": {},
   "outputs": [
    {
     "name": "stdout",
     "output_type": "stream",
     "text": [
      "[[5.8056543e-16 9.8600543e-01 5.9851937e-09 ... 3.3230995e-06\n",
      "  4.5291901e-05 2.4175349e-06]\n",
      " [5.2680181e-19 9.9998558e-01 3.1679929e-07 ... 3.5159022e-08\n",
      "  7.2829167e-08 1.6554206e-09]\n",
      " [1.8870707e-18 9.9985731e-01 1.0398255e-12 ... 1.2972205e-11\n",
      "  4.7494586e-09 1.5996577e-08]\n",
      " ...\n",
      " [2.3547082e-19 2.5538915e-08 1.0456743e-09 ... 3.8100567e-09\n",
      "  2.9702109e-11 9.9974090e-01]\n",
      " [1.7657376e-18 2.3812494e-11 2.5963939e-11 ... 1.0891482e-09\n",
      "  2.5717939e-06 9.9563497e-01]\n",
      " [1.8458020e-23 4.9555775e-13 2.9334708e-15 ... 1.3683402e-10\n",
      "  1.3979899e-13 9.9998772e-01]]\n"
     ]
    }
   ],
   "source": [
    "print(p)"
   ]
  },
  {
   "cell_type": "code",
   "execution_count": 33,
   "metadata": {},
   "outputs": [
    {
     "name": "stdout",
     "output_type": "stream",
     "text": [
      "19251\n",
      "92.55288461538461\n"
     ]
    }
   ],
   "source": [
    "c=0\n",
    "for i in range(len(x_test)):\n",
    "    c+=1 if np.argmax(p[i])==y_test[i] else 0\n",
    "print(c)    \n",
    "print((c/len(x_test))*100) "
   ]
  },
  {
   "cell_type": "code",
   "execution_count": null,
   "metadata": {},
   "outputs": [],
   "source": []
  }
 ],
 "metadata": {
  "kernelspec": {
   "display_name": "Python 3",
   "language": "python",
   "name": "python3"
  },
  "language_info": {
   "codemirror_mode": {
    "name": "ipython",
    "version": 3
   },
   "file_extension": ".py",
   "mimetype": "text/x-python",
   "name": "python",
   "nbconvert_exporter": "python",
   "pygments_lexer": "ipython3",
   "version": "3.7.2"
  }
 },
 "nbformat": 4,
 "nbformat_minor": 2
}
